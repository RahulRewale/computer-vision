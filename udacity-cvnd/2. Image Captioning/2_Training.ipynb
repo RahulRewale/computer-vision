{
 "cells": [
  {
   "cell_type": "markdown",
   "metadata": {},
   "source": [
    "# Computer Vision Nanodegree\n",
    "\n",
    "## Project: Image Captioning\n",
    "\n",
    "---\n",
    "\n",
    "In this notebook, you will train your CNN-RNN model.  \n",
    "\n",
    "You are welcome and encouraged to try out many different architectures and hyperparameters when searching for a good model.\n",
    "\n",
    "This does have the potential to make the project quite messy!  Before submitting your project, make sure that you clean up:\n",
    "- the code you write in this notebook.  The notebook should describe how to train a single CNN-RNN architecture, corresponding to your final choice of hyperparameters.  You should structure the notebook so that the reviewer can replicate your results by running the code in this notebook.  \n",
    "- the output of the code cell in **Step 2**.  The output should show the output obtained when training the model from scratch.\n",
    "\n",
    "This notebook **will be graded**.  \n",
    "\n",
    "Feel free to use the links below to navigate the notebook:\n",
    "- [Step 1](#step1): Training Setup\n",
    "- [Step 2](#step2): Train your Model\n",
    "- [Step 3](#step3): (Optional) Validate your Model"
   ]
  },
  {
   "cell_type": "markdown",
   "metadata": {},
   "source": [
    "<a id='step1'></a>\n",
    "## Step 1: Training Setup\n",
    "\n",
    "In this step of the notebook, you will customize the training of your CNN-RNN model by specifying hyperparameters and setting other options that are important to the training procedure.  The values you set now will be used when training your model in **Step 2** below.\n",
    "\n",
    "You should only amend blocks of code that are preceded by a `TODO` statement.  **Any code blocks that are not preceded by a `TODO` statement should not be modified**.\n",
    "\n",
    "### Task #1\n",
    "\n",
    "Begin by setting the following variables:\n",
    "- `batch_size` - the batch size of each training batch.  It is the number of image-caption pairs used to amend the model weights in each training step. \n",
    "- `vocab_threshold` - the minimum word count threshold.  Note that a larger threshold will result in a smaller vocabulary, whereas a smaller threshold will include rarer words and result in a larger vocabulary.  \n",
    "- `vocab_from_file` - a Boolean that decides whether to load the vocabulary from file. \n",
    "- `embed_size` - the dimensionality of the image and word embeddings.  \n",
    "- `hidden_size` - the number of features in the hidden state of the RNN decoder.  \n",
    "- `num_epochs` - the number of epochs to train the model.  We recommend that you set `num_epochs=3`, but feel free to increase or decrease this number as you wish.  [This paper](https://arxiv.org/pdf/1502.03044.pdf) trained a captioning model on a single state-of-the-art GPU for 3 days, but you'll soon see that you can get reasonable results in a matter of a few hours!  (_But of course, if you want your model to compete with current research, you will have to train for much longer._)\n",
    "- `save_every` - determines how often to save the model weights.  We recommend that you set `save_every=1`, to save the model weights after each epoch.  This way, after the `i`th epoch, the encoder and decoder weights will be saved in the `models/` folder as `encoder-i.pkl` and `decoder-i.pkl`, respectively.\n",
    "- `print_every` - determines how often to print the batch loss to the Jupyter notebook while training.  Note that you **will not** observe a monotonic decrease in the loss function while training - this is perfectly fine and completely expected!  You are encouraged to keep this at its default value of `100` to avoid clogging the notebook, but feel free to change it.\n",
    "- `log_file` - the name of the text file containing - for every step - how the loss and perplexity evolved during training.\n",
    "\n",
    "If you're not sure where to begin to set some of the values above, you can peruse [this paper](https://arxiv.org/pdf/1502.03044.pdf) and [this paper](https://arxiv.org/pdf/1411.4555.pdf) for useful guidance!  **To avoid spending too long on this notebook**, you are encouraged to consult these suggested research papers to obtain a strong initial guess for which hyperparameters are likely to work best.  Then, train a single model, and proceed to the next notebook (**3_Inference.ipynb**).  If you are unhappy with your performance, you can return to this notebook to tweak the hyperparameters (and/or the architecture in **model.py**) and re-train your model.\n",
    "\n",
    "### Question 1\n",
    "\n",
    "**Question:** Describe your CNN-RNN architecture in detail.  With this architecture in mind, how did you select the values of the variables in Task 1?  If you consulted a research paper detailing a successful implementation of an image captioning model, please provide the reference.\n",
    "\n",
    "**Answer:** \n",
    "\n",
    "*Note*: <br>\n",
    "Because of limited GPU hours, I decided to move to Google Colab. I tried various models, and below answers are as per the BLEU scores that I obtained on colab. Once I decided my final model architecture and all the parameters, I trained a model here in Udacity workspace with that config.\n",
    "\n",
    "\n",
    "*Encoder*: <br>\n",
    "Tried VGG16 and ResNet50 for creating the encoder. When I compared their BLEU scores, ResNet50 performed better. <br>\n",
    "VGG16 has many more parameters compared to that in ResNet50. Thus, training VGG16 took longer, and its checkpoint files were quite big (~500 MB compared to ~100MB for ResNet50).\n",
    "\n",
    "*Decoder*:<br>\n",
    "Tried 1 and 2 LSTM layers for decoder network. Decoder with 2 LSTM layers gave better BLEU scores, so decided to have 2 LSTM layers in my model.\n",
    "With 2 LSTM layers, I tried dropout of 0.2 and 0.4. Both gave lower BLEU scores, so I have not added any dropout.\n",
    "\n",
    "*batch_size*:<br>\n",
    "Tried various values for batch size (e.g. 64, 128, 256, 512). If batch size is very small, you will see a lot of fluctuations in loss value in each epoch. On the other hand, if it is very large, you may get 'out of memory' errors. Also, having larger batch size means more parallelization. <br>\n",
    "After comparing models trained using sizes 256 and 512, I decided to use 512 since it showed small improvement in BLEU score.\n",
    "\n",
    "*vocab_threshold*:<br>\n",
    "As per [Show and Tell: A Neural Image Caption Generator](https://arxiv.org/pdf/1411.4555.pdf), decided to use 5.\n",
    "\n",
    "*embed_size and hidden_size*:<br>\n",
    "Tried various permutations of values for these two parameters. e.g. (256, 256), (256, 512), (512, 512), etc.\n",
    "The combination (256, 1024) gave comparatively better BLEU scores, so decided to use these values.\n",
    "\n",
    "\n",
    "\n",
    "\n",
    "\n",
    "### (Optional) Task #2\n",
    "\n",
    "Note that we have provided a recommended image transform `transform_train` for pre-processing the training images, but you are welcome (and encouraged!) to modify it as you wish.  When modifying this transform, keep in mind that:\n",
    "- the images in the dataset have varying heights and widths, and \n",
    "- if using a pre-trained model, you must perform the corresponding appropriate normalization.\n",
    "\n",
    "### Question 2\n",
    "\n",
    "**Question:** How did you select the transform in `transform_train`?  If you left the transform at its provided value, why do you think that it is a good choice for your CNN architecture?\n",
    "\n",
    "**Answer:** \n",
    "\n",
    "I tried below transformations. <br>\n",
    "    &emsp; &emsp; RandomRotation(degrees=20) <br>\n",
    "    &emsp; &emsp; GaussianBlur(kernel_size=3) <br>\n",
    "    &emsp; &emsp; RandomAutocontrast() <br>\n",
    "\n",
    "I tried them one-by-one as well as together, but every time I got comparatively lower BLEU score. Thus, I decided to not add any additional transformations.\n",
    "\n",
    "Intuitively speaking: <br>\n",
    "I am using a CNN that is already trained on a large number of variety of images. So, after removing the classification layer, the output of the last layer of this CNN should be same (or nearly same) irrespective of whether we use some transformation or not. <br>\n",
    "In other words, since the encoder \"encodes\" the content of the input image, its output should be same even if we rotate, blur, etc. Thus, I think, applying any transformations is not likely to help much.\n",
    "\n",
    "\n",
    "\n",
    "### Task #3\n",
    "\n",
    "Next, you will specify a Python list containing the learnable parameters of the model.  For instance, if you decide to make all weights in the decoder trainable, but only want to train the weights in the embedding layer of the encoder, then you should set `params` to something like:\n",
    "```\n",
    "params = list(decoder.parameters()) + list(encoder.embed.parameters()) \n",
    "```\n",
    "\n",
    "### Question 3\n",
    "\n",
    "**Question:** How did you select the trainable parameters of your architecture?  Why do you think this is a good choice?\n",
    "\n",
    "**Answer:** \n",
    "\n",
    "I am using a pre-trained CNN model (ResNet50) as an encoder. Since it is already trained, its parameters should not be modified. However, I have removed the classification layer from this CNN and, in its place, have added an embedding layer. This embedding layer is completely new, so its parameters need be trained.\n",
    "In decoder, I am using 2 LSTM layers and 1 FC layer. Again, these are completely new layers. Hence, their parameters should also be modified during training.\n",
    "\n",
    "Therefore, I selected the parameters in the embedding layer and the decoder for training.\n",
    "\n",
    "\n",
    "### Task #4\n",
    "\n",
    "Finally, you will select an [optimizer](http://pytorch.org/docs/master/optim.html#torch.optim.Optimizer).\n",
    "\n",
    "### Question 4\n",
    "\n",
    "**Question:** How did you select the optimizer used to train your model?\n",
    "\n",
    "**Answer:** \n",
    "\n",
    "In SGD optimizer, you need to manually set the learning rate, whereas in Adam optimizer, you can manually set the learning rate but you are not required to. If you don't specify the learning rate, Adam optimizer automatically finds a good value.<br>\n",
    "Also, as you train your model, you should reduce learning rate (\"learning rate decay\") after few epochs. In SGD, you need to decide yourself when you should change the learning rate and what the new learning rate should be. In Adam optimizer however this is done automatically.\n",
    "\n",
    "Finally, Adam optimizer also has some mathematical improvements compared to SGD. For example, it uses running average of gradients while updating model parameters. This leads to lesser fluctuations in loss and also reduces the chance of model getting stuck in a local minima.\n",
    "\n",
    "I tried both SGD and Adam optimizer. With SGD, perplexity was stuck at ~10, even when I reduced the learning rate a couple of times during training. With Adam optimizer, I managed to get perplexity <10. So, I chose Adam optimizer for training the final model."
   ]
  },
  {
   "cell_type": "code",
   "execution_count": 1,
   "metadata": {},
   "outputs": [
    {
     "name": "stdout",
     "output_type": "stream",
     "text": [
      "Requirement already satisfied: nltk in /opt/conda/lib/python3.6/site-packages (3.2.5)\n",
      "Requirement already satisfied: six in /opt/conda/lib/python3.6/site-packages (from nltk) (1.11.0)\n",
      "[nltk_data] Downloading package punkt to /root/nltk_data...\n",
      "[nltk_data]   Unzipping tokenizers/punkt.zip.\n"
     ]
    },
    {
     "data": {
      "text/plain": [
       "True"
      ]
     },
     "execution_count": 1,
     "metadata": {},
     "output_type": "execute_result"
    }
   ],
   "source": [
    "### MY CODE\n",
    "# if you don't execute notebook \"1. Preliminaries\", you need to download punkt here\n",
    "!pip install nltk\n",
    "import nltk\n",
    "nltk.download('punkt')\n",
    "### MY CODE"
   ]
  },
  {
   "cell_type": "code",
   "execution_count": 2,
   "metadata": {},
   "outputs": [
    {
     "name": "stdout",
     "output_type": "stream",
     "text": [
      "Vocabulary successfully loaded from vocab.pkl file!\n",
      "loading annotations into memory...\n",
      "Done (t=1.17s)\n",
      "creating index...\n"
     ]
    },
    {
     "name": "stderr",
     "output_type": "stream",
     "text": [
      "  0%|          | 811/414113 [00:00<01:48, 3818.96it/s]"
     ]
    },
    {
     "name": "stdout",
     "output_type": "stream",
     "text": [
      "index created!\n",
      "Obtaining caption lengths...\n"
     ]
    },
    {
     "name": "stderr",
     "output_type": "stream",
     "text": [
      "100%|██████████| 414113/414113 [01:30<00:00, 4599.51it/s]\n",
      "Downloading: \"https://download.pytorch.org/models/resnet50-19c8e357.pth\" to /root/.torch/models/resnet50-19c8e357.pth\n",
      "100%|██████████| 102502400/102502400 [00:00<00:00, 103626370.62it/s]\n"
     ]
    }
   ],
   "source": [
    "import torch\n",
    "import torch.nn as nn\n",
    "from torchvision import transforms\n",
    "import sys\n",
    "sys.path.append('/opt/cocoapi/PythonAPI')\n",
    "from pycocotools.coco import COCO\n",
    "from data_loader import get_loader\n",
    "from model import EncoderCNN, DecoderRNN\n",
    "import math\n",
    "\n",
    "\n",
    "## TODO #1: Select appropriate values for the Python variables below.\n",
    "batch_size = 512           # batch size\n",
    "vocab_threshold = 5        # minimum word count threshold\n",
    "vocab_from_file = True    # if True, load existing vocab file\n",
    "embed_size = 256           # dimensionality of image and word embeddings\n",
    "hidden_size = 1024          # number of features in hidden state of the RNN decoder\n",
    "num_epochs = 1             # number of training epochs\n",
    "save_every = 1             # determines frequency of saving model weights\n",
    "print_every = 100          # determines window for printing average loss\n",
    "log_file = 'training_log.txt'       # name of file with saved training loss and perplexity\n",
    "\n",
    "# (Optional) TODO #2: Amend the image transform below.\n",
    "transform_train = transforms.Compose([ \n",
    "    transforms.Resize(256),                          # smaller edge of image resized to 256\n",
    "    transforms.RandomCrop(224),                      # get 224x224 crop from random location\n",
    "    transforms.RandomHorizontalFlip(),               # horizontally flip image with probability=0.5\n",
    "    transforms.ToTensor(),                           # convert the PIL Image to a tensor\n",
    "    transforms.Normalize((0.485, 0.456, 0.406),      # normalize image for pre-trained model\n",
    "                         (0.229, 0.224, 0.225))])\n",
    "\n",
    "# Build data loader.\n",
    "data_loader = get_loader(transform=transform_train,\n",
    "                         mode='train',\n",
    "                         batch_size=batch_size,\n",
    "                         vocab_threshold=vocab_threshold,\n",
    "                         vocab_from_file=vocab_from_file)\n",
    "\n",
    "# The size of the vocabulary.\n",
    "vocab_size = len(data_loader.dataset.vocab)\n",
    "\n",
    "# Initialize the encoder and decoder. \n",
    "encoder = EncoderCNN(embed_size)\n",
    "decoder = DecoderRNN(embed_size, hidden_size, vocab_size, num_layers=2)\n",
    "\n",
    "# Move models to GPU if CUDA is available. \n",
    "device = torch.device(\"cuda\" if torch.cuda.is_available() else \"cpu\")\n",
    "encoder.to(device)\n",
    "decoder.to(device)\n",
    "\n",
    "# Define the loss function. \n",
    "criterion = nn.CrossEntropyLoss().cuda() if torch.cuda.is_available() else nn.CrossEntropyLoss()\n",
    "\n",
    "# TODO #3: Specify the learnable parameters of the model.\n",
    "params = list(decoder.parameters()) + list(encoder.embed.parameters())\n",
    "\n",
    "# TODO #4: Define the optimizer.\n",
    "optimizer = torch.optim.Adam(params)\n",
    "\n",
    "# Set the total number of training steps per epoch.\n",
    "total_step = math.ceil(len(data_loader.dataset.caption_lengths) / data_loader.batch_sampler.batch_size)"
   ]
  },
  {
   "cell_type": "markdown",
   "metadata": {},
   "source": [
    "<a id='step2'></a>\n",
    "## Step 2: Train your Model\n",
    "\n",
    "Once you have executed the code cell in **Step 1**, the training procedure below should run without issue.  \n",
    "\n",
    "It is completely fine to leave the code cell below as-is without modifications to train your model.  However, if you would like to modify the code used to train the model below, you must ensure that your changes are easily parsed by your reviewer.  In other words, make sure to provide appropriate comments to describe how your code works!  \n",
    "\n",
    "You may find it useful to load saved weights to resume training.  In that case, note the names of the files containing the encoder and decoder weights that you'd like to load (`encoder_file` and `decoder_file`).  Then you can load the weights by using the lines below:\n",
    "\n",
    "```python\n",
    "# Load pre-trained weights before resuming training.\n",
    "encoder.load_state_dict(torch.load(os.path.join('./models', encoder_file)))\n",
    "decoder.load_state_dict(torch.load(os.path.join('./models', decoder_file)))\n",
    "```\n",
    "\n",
    "While trying out parameters, make sure to take extensive notes and record the settings that you used in your various training runs.  In particular, you don't want to encounter a situation where you've trained a model for several hours but can't remember what settings you used :).\n",
    "\n",
    "### A Note on Tuning Hyperparameters\n",
    "\n",
    "To figure out how well your model is doing, you can look at how the training loss and perplexity evolve during training - and for the purposes of this project, you are encouraged to amend the hyperparameters based on this information.  \n",
    "\n",
    "However, this will not tell you if your model is overfitting to the training data, and, unfortunately, overfitting is a problem that is commonly encountered when training image captioning models.  \n",
    "\n",
    "For this project, you need not worry about overfitting. **This project does not have strict requirements regarding the performance of your model**, and you just need to demonstrate that your model has learned **_something_** when you generate captions on the test data.  For now, we strongly encourage you to train your model for the suggested 3 epochs without worrying about performance; then, you should immediately transition to the next notebook in the sequence (**3_Inference.ipynb**) to see how your model performs on the test data.  If your model needs to be changed, you can come back to this notebook, amend hyperparameters (if necessary), and re-train the model.\n",
    "\n",
    "That said, if you would like to go above and beyond in this project, you can read about some approaches to minimizing overfitting in section 4.3.1 of [this paper](http://ieeexplore.ieee.org/stamp/stamp.jsp?arnumber=7505636).  In the next (optional) step of this notebook, we provide some guidance for assessing the performance on the validation dataset."
   ]
  },
  {
   "cell_type": "code",
   "execution_count": 3,
   "metadata": {},
   "outputs": [],
   "source": [
    "### MY CODE\n",
    "# to resume training\n",
    "encoder.load_state_dict(torch.load('./models/encoder-4.pkl'))\n",
    "decoder.load_state_dict(torch.load('./models/decoder-4.pkl'))\n",
    "### MY CODE"
   ]
  },
  {
   "cell_type": "code",
   "execution_count": 4,
   "metadata": {},
   "outputs": [],
   "source": [
    "import torch.utils.data as data\n",
    "import numpy as np\n",
    "import os\n",
    "import requests\n",
    "import time\n",
    "\n",
    "# moved the training code inside a function to be able to execute it under active_session()\n",
    "def train(start_epoch, num_epochs):\n",
    "    # Open the training log file.\n",
    "    f = open(log_file, 'w')\n",
    "\n",
    "    old_time = time.time()\n",
    "    response = requests.request(\"GET\", \n",
    "                                \"http://metadata.google.internal/computeMetadata/v1/instance/attributes/keep_alive_token\", \n",
    "                                headers={\"Metadata-Flavor\":\"Google\"})\n",
    "\n",
    "    for epoch in range(start_epoch, num_epochs+1):\n",
    "\n",
    "        ### MY CODE\n",
    "        epoch_start = time.time()\n",
    "        ### MY CODE\n",
    "\n",
    "        for i_step in range(1, total_step+1):\n",
    "\n",
    "            if time.time() - old_time > 60:\n",
    "                old_time = time.time()\n",
    "                requests.request(\"POST\", \n",
    "                                 \"https://nebula.udacity.com/api/v1/remote/keep-alive\", \n",
    "                                 headers={'Authorization': \"STAR \" + response.text})\n",
    "\n",
    "            # Randomly sample a caption length, and sample indices with that length.\n",
    "            indices = data_loader.dataset.get_train_indices()\n",
    "            # Create and assign a batch sampler to retrieve a batch with the sampled indices.\n",
    "            new_sampler = data.sampler.SubsetRandomSampler(indices=indices)\n",
    "            data_loader.batch_sampler.sampler = new_sampler\n",
    "\n",
    "            # Obtain the batch.\n",
    "            images, captions = next(iter(data_loader))\n",
    "\n",
    "            # Move batch of images and captions to GPU if CUDA is available.\n",
    "            images = images.to(device)\n",
    "            captions = captions.to(device)\n",
    "\n",
    "            # Zero the gradients.\n",
    "            decoder.zero_grad()\n",
    "            encoder.zero_grad()\n",
    "\n",
    "            # Pass the inputs through the CNN-RNN model.\n",
    "            features = encoder(images)\n",
    "            outputs = decoder(features, captions)\n",
    "\n",
    "            # Calculate the batch loss.\n",
    "            loss = criterion(outputs.view(-1, vocab_size), captions.view(-1))\n",
    "\n",
    "            # Backward pass.\n",
    "            loss.backward()\n",
    "\n",
    "            # Update the parameters in the optimizer.\n",
    "            optimizer.step()\n",
    "\n",
    "            # Get training statistics.\n",
    "            stats = 'Epoch [%d/%d], Step [%d/%d], Loss: %.4f, Perplexity: %5.4f' % (epoch, num_epochs, i_step, total_step, loss.item(), np.exp(loss.item()))\n",
    "\n",
    "            # Print training statistics (on same line).\n",
    "            print('\\r' + stats, end=\"\")\n",
    "            sys.stdout.flush()\n",
    "\n",
    "            # Print training statistics to file.\n",
    "            f.write(stats + '\\n')\n",
    "            f.flush()\n",
    "\n",
    "            # Print training statistics (on different line).\n",
    "            if i_step % print_every == 0:\n",
    "                print('\\r' + stats)\n",
    "\n",
    "        # Save the weights.\n",
    "        if epoch % save_every == 0:\n",
    "            torch.save(decoder.state_dict(), os.path.join('./models', 'decoder-%d.pkl' % epoch))\n",
    "            torch.save(encoder.state_dict(), os.path.join('./models', 'encoder-%d.pkl' % epoch))\n",
    "\n",
    "        ### MY CODE\n",
    "        print(f\"\\n\\nEpoch time: {time.time()-epoch_start}\\n\\n\")\n",
    "        ### MY CODE\n",
    "\n",
    "    # Close the training log file.\n",
    "    f.close()"
   ]
  },
  {
   "cell_type": "code",
   "execution_count": 5,
   "metadata": {},
   "outputs": [
    {
     "name": "stdout",
     "output_type": "stream",
     "text": [
      "Epoch [1/1], Step [100/809], Loss: 4.6720, Perplexity: 106.9101\n",
      "Epoch [1/1], Step [200/809], Loss: 3.4943, Perplexity: 32.9285\n",
      "Epoch [1/1], Step [300/809], Loss: 3.2061, Perplexity: 24.6827\n",
      "Epoch [1/1], Step [400/809], Loss: 3.1466, Perplexity: 23.25649\n",
      "Epoch [1/1], Step [500/809], Loss: 3.1137, Perplexity: 22.5039\n",
      "Epoch [1/1], Step [600/809], Loss: 2.8890, Perplexity: 17.9757\n",
      "Epoch [1/1], Step [700/809], Loss: 2.7483, Perplexity: 15.6161\n",
      "Epoch [1/1], Step [800/809], Loss: 2.7810, Perplexity: 16.1356\n",
      "Epoch [1/1], Step [809/809], Loss: 2.6041, Perplexity: 13.5197\n",
      "\n",
      "Epoch time: 7944.443021535873\n",
      "\n",
      "\n"
     ]
    }
   ],
   "source": [
    "# I trained the model one epoch at a time so that I can test it after every epoch.\n",
    "# Thus, I added two parameters start_epoch and num_epochs to the train() function.\n",
    "\n",
    "# Also, to preserve the training/loss history for all the epochs, I trained each epoch in a separate notebook cell\n",
    "\n",
    "from workspace_utils import active_session  \n",
    "\n",
    "# pass these variables so that you can resume training\n",
    "start_epoch = 1\n",
    "num_epochs = 1\n",
    "\n",
    "with active_session():\n",
    "    train(start_epoch, num_epochs)"
   ]
  },
  {
   "cell_type": "code",
   "execution_count": 6,
   "metadata": {},
   "outputs": [
    {
     "name": "stdout",
     "output_type": "stream",
     "text": [
      "Epoch [2/2], Step [100/809], Loss: 2.4289, Perplexity: 11.3467\n",
      "Epoch [2/2], Step [200/809], Loss: 2.3903, Perplexity: 10.9164\n",
      "Epoch [2/2], Step [300/809], Loss: 2.6081, Perplexity: 13.5735\n",
      "Epoch [2/2], Step [400/809], Loss: 2.4200, Perplexity: 11.2464\n",
      "Epoch [2/2], Step [500/809], Loss: 2.2117, Perplexity: 9.13154\n",
      "Epoch [2/2], Step [600/809], Loss: 2.2418, Perplexity: 9.41012\n",
      "Epoch [2/2], Step [700/809], Loss: 2.1322, Perplexity: 8.43362\n",
      "Epoch [2/2], Step [800/809], Loss: 2.2097, Perplexity: 9.11315\n",
      "Epoch [2/2], Step [809/809], Loss: 2.5113, Perplexity: 12.3208\n",
      "\n",
      "Epoch time: 7843.719820022583\n",
      "\n",
      "\n"
     ]
    }
   ],
   "source": [
    "from workspace_utils import active_session  \n",
    "\n",
    "start_epoch = 2\n",
    "num_epochs = 2\n",
    "\n",
    "with active_session():\n",
    "    train(start_epoch, num_epochs)"
   ]
  },
  {
   "cell_type": "code",
   "execution_count": 7,
   "metadata": {},
   "outputs": [
    {
     "name": "stdout",
     "output_type": "stream",
     "text": [
      "Epoch [3/3], Step [100/809], Loss: 2.2139, Perplexity: 9.1515\n",
      "Epoch [3/3], Step [200/809], Loss: 2.0699, Perplexity: 7.92387\n",
      "Epoch [3/3], Step [300/809], Loss: 2.1048, Perplexity: 8.20592\n",
      "Epoch [3/3], Step [400/809], Loss: 2.0886, Perplexity: 8.073355\n",
      "Epoch [3/3], Step [500/809], Loss: 2.1439, Perplexity: 8.53254\n",
      "Epoch [3/3], Step [600/809], Loss: 2.0478, Perplexity: 7.75057\n",
      "Epoch [3/3], Step [700/809], Loss: 2.7415, Perplexity: 15.5098\n",
      "Epoch [3/3], Step [800/809], Loss: 2.2179, Perplexity: 9.18822\n",
      "Epoch [3/3], Step [809/809], Loss: 2.0102, Perplexity: 7.46505\n",
      "\n",
      "Epoch time: 7852.449120521545\n",
      "\n",
      "\n"
     ]
    }
   ],
   "source": [
    "from workspace_utils import active_session  \n",
    "\n",
    "start_epoch = 3\n",
    "num_epochs = 3\n",
    "\n",
    "# start time 1:25:10\n",
    "with active_session():\n",
    "    train(start_epoch, num_epochs)"
   ]
  },
  {
   "cell_type": "code",
   "execution_count": 8,
   "metadata": {},
   "outputs": [
    {
     "name": "stdout",
     "output_type": "stream",
     "text": [
      "Epoch [4/4], Step [100/809], Loss: 2.0705, Perplexity: 7.9291\n",
      "Epoch [4/4], Step [200/809], Loss: 1.9414, Perplexity: 6.96834\n",
      "Epoch [4/4], Step [300/809], Loss: 1.9689, Perplexity: 7.16281\n",
      "Epoch [4/4], Step [400/809], Loss: 1.9541, Perplexity: 7.05734\n",
      "Epoch [4/4], Step [500/809], Loss: 2.0280, Perplexity: 7.59892\n",
      "Epoch [4/4], Step [600/809], Loss: 1.8779, Perplexity: 6.54009\n",
      "Epoch [4/4], Step [700/809], Loss: 2.0029, Perplexity: 7.41048\n",
      "Epoch [4/4], Step [800/809], Loss: 1.8996, Perplexity: 6.68331\n",
      "Epoch [4/4], Step [809/809], Loss: 2.2638, Perplexity: 9.61972\n",
      "\n",
      "Epoch time: 7868.33460688591\n",
      "\n",
      "\n"
     ]
    }
   ],
   "source": [
    "from workspace_utils import active_session  \n",
    "\n",
    "start_epoch = 4\n",
    "num_epochs = 4\n",
    "\n",
    "with active_session():\n",
    "    train(start_epoch, num_epochs)"
   ]
  },
  {
   "cell_type": "code",
   "execution_count": 5,
   "metadata": {},
   "outputs": [
    {
     "name": "stdout",
     "output_type": "stream",
     "text": [
      "Epoch [5/5], Step [100/809], Loss: 1.8015, Perplexity: 6.0589\n",
      "Epoch [5/5], Step [200/809], Loss: 2.0160, Perplexity: 7.50831\n",
      "Epoch [5/5], Step [300/809], Loss: 1.8344, Perplexity: 6.26126\n",
      "Epoch [5/5], Step [400/809], Loss: 1.9688, Perplexity: 7.16239\n",
      "Epoch [5/5], Step [500/809], Loss: 1.8574, Perplexity: 6.40684\n",
      "Epoch [5/5], Step [600/809], Loss: 2.0136, Perplexity: 7.49017\n",
      "Epoch [5/5], Step [700/809], Loss: 1.8944, Perplexity: 6.64862\n",
      "Epoch [5/5], Step [800/809], Loss: 1.8898, Perplexity: 6.61773\n",
      "Epoch [5/5], Step [809/809], Loss: 1.8351, Perplexity: 6.2656\n",
      "\n",
      "Epoch time: 8011.097095966339\n",
      "\n",
      "\n"
     ]
    }
   ],
   "source": [
    "from workspace_utils import active_session  \n",
    "\n",
    "start_epoch = 5\n",
    "num_epochs = 5\n",
    "\n",
    "with active_session():\n",
    "    train(start_epoch, num_epochs)"
   ]
  },
  {
   "cell_type": "markdown",
   "metadata": {},
   "source": [
    "<a id='step3'></a>\n",
    "## Step 3: (Optional) Validate your Model\n",
    "\n",
    "To assess potential overfitting, one approach is to assess performance on a validation set.  If you decide to do this **optional** task, you are required to first complete all of the steps in the next notebook in the sequence (**3_Inference.ipynb**); as part of that notebook, you will write and test code (specifically, the `sample` method in the `DecoderRNN` class) that uses your RNN decoder to generate captions.  That code will prove incredibly useful here. \n",
    "\n",
    "If you decide to validate your model, please do not edit the data loader in **data_loader.py**.  Instead, create a new file named **data_loader_val.py** containing the code for obtaining the data loader for the validation data.  You can access:\n",
    "- the validation images at filepath `'/opt/cocoapi/images/train2014/'`, and\n",
    "- the validation image caption annotation file at filepath `'/opt/cocoapi/annotations/captions_val2014.json'`.\n",
    "\n",
    "The suggested approach to validating your model involves creating a json file such as [this one](https://github.com/cocodataset/cocoapi/blob/master/results/captions_val2014_fakecap_results.json) containing your model's predicted captions for the validation images.  Then, you can write your own script or use one that you [find online](https://github.com/tylin/coco-caption) to calculate the BLEU score of your model.  You can read more about the BLEU score, along with other evaluation metrics (such as TEOR and Cider) in section 4.1 of [this paper](https://arxiv.org/pdf/1411.4555.pdf).  For more information about how to use the annotation file, check out the [website](http://cocodataset.org/#download) for the COCO dataset."
   ]
  },
  {
   "cell_type": "code",
   "execution_count": 1,
   "metadata": {},
   "outputs": [
    {
     "name": "stdout",
     "output_type": "stream",
     "text": [
      "Vocabulary successfully loaded from vocab.pkl file!\n",
      "loading annotations into memory...\n",
      "Done (t=0.52s)\n",
      "creating index...\n",
      "index created!\n"
     ]
    }
   ],
   "source": [
    "# (Optional) TODO: Validate your model.\n",
    "\n",
    "import torch\n",
    "from torchvision import transforms\n",
    "import os\n",
    "import time\n",
    "import sys\n",
    "sys.path.append('/opt/cocoapi/PythonAPI')\n",
    "from pycocotools.coco import COCO\n",
    "from model import EncoderCNN, DecoderRNN\n",
    "import data_loader_val\n",
    "\n",
    "\n",
    "# False means the ground_truth is already there in a saved file; no need to generate it\n",
    "generate_gt = True                                   \n",
    "\n",
    "# TODO #1: Define a transform to pre-process the validation images.\n",
    "# typically, we don't use any data augmentation during validation/testing\n",
    "transform_val = transforms.Compose([\n",
    "    transforms.Resize(256),                          # smaller edge of image resized to 256\n",
    "    transforms.RandomCrop(224),                      # get 224x224 crop from random location\n",
    "    # transforms.RandomHorizontalFlip(),             # horizontally flip image with probability=0.5\n",
    "    transforms.ToTensor(),                           # convert the PIL Image to a tensor\n",
    "    transforms.Normalize((0.485, 0.456, 0.406),      # normalize image for pre-trained model\n",
    "                         (0.229, 0.224, 0.225))])\n",
    "\n",
    "# Create a data loader for validation data\n",
    "val_data_loader = data_loader_val.get_loader(transform=transform_val,\n",
    "                         mode='val',\n",
    "                         generate_gt=generate_gt)"
   ]
  },
  {
   "cell_type": "code",
   "execution_count": 2,
   "metadata": {},
   "outputs": [
    {
     "name": "stderr",
     "output_type": "stream",
     "text": [
      "Downloading: \"https://download.pytorch.org/models/resnet50-19c8e357.pth\" to /root/.torch/models/resnet50-19c8e357.pth\n",
      "100%|██████████| 102502400/102502400 [00:01<00:00, 99653985.18it/s]\n"
     ]
    },
    {
     "data": {
      "text/plain": [
       "DecoderRNN(\n",
       "  (embed): Embedding(8855, 256)\n",
       "  (lstm): LSTM(256, 1024, num_layers=2, batch_first=True)\n",
       "  (fc): Linear(in_features=1024, out_features=8855, bias=True)\n",
       ")"
      ]
     },
     "execution_count": 2,
     "metadata": {},
     "output_type": "execute_result"
    }
   ],
   "source": [
    "encoder_file = \"encoder-5.pkl\"\n",
    "decoder_file = \"decoder-5.pkl\" \n",
    "\n",
    "embed_size = 256\n",
    "hidden_size = 1024\n",
    "\n",
    "vocab_size = len(val_data_loader.dataset.vocab)\n",
    "\n",
    "# Initialize the encoder and decoder, and set each to inference mode.\n",
    "encoder = EncoderCNN(embed_size)\n",
    "encoder.eval()\n",
    "decoder = DecoderRNN(embed_size, hidden_size, vocab_size, num_layers=2)\n",
    "decoder.eval()\n",
    "\n",
    "# Load the trained weights\n",
    "encoder.load_state_dict(torch.load(os.path.join('./models', encoder_file)))\n",
    "decoder.load_state_dict(torch.load(os.path.join('./models', decoder_file)))\n",
    "\n",
    "# Move models to GPU if CUDA is available.\n",
    "device = torch.device(\"cuda\" if torch.cuda.is_available() else \"cpu\")\n",
    "encoder.to(device)\n",
    "decoder.to(device)"
   ]
  },
  {
   "cell_type": "code",
   "execution_count": 3,
   "metadata": {},
   "outputs": [],
   "source": [
    "# same as that in notebook \"3. Inference\"\n",
    "def clean_sentence(output):\n",
    "    sentence = \"\"\n",
    "    for i in range(len(output)):\n",
    "        word = val_data_loader.dataset.vocab.idx2word[output[i]]\n",
    "        if word == val_data_loader.dataset.vocab.start_word:\n",
    "            continue\n",
    "        if word == val_data_loader.dataset.vocab.end_word:\n",
    "            break\n",
    "        \n",
    "        if word == '.':\n",
    "            sentence = sentence[:-1] + word\n",
    "        else:\n",
    "            sentence = sentence + word + \" \"\n",
    "    return sentence"
   ]
  },
  {
   "cell_type": "code",
   "execution_count": 4,
   "metadata": {},
   "outputs": [
    {
     "name": "stdout",
     "output_type": "stream",
     "text": [
      "Completed: 5000; time 276.8711516857147\n",
      "Completed: 10000; time 275.643146276474\n",
      "Completed: 15000; time 276.50507044792175\n",
      "Completed: 20000; time 276.6227037906647\n",
      "Completed: 25000; time 275.9075996875763\n",
      "Completed: 30000; time 276.1495244503021\n",
      "Completed: 35000; time 278.23764753341675\n",
      "Completed: 40000; time 281.5620048046112\n",
      "Completed: 45000; time 279.73266887664795\n",
      "Completed: 50000; time 279.7780747413635\n",
      "\n",
      "\n",
      "Total time for processing validation data: 2777.0121281147003\n",
      "\n",
      "\n"
     ]
    }
   ],
   "source": [
    "cnt = 0            # used for logging validation progress\n",
    "sample_size = 5000 # log after every sample_size items\n",
    "\n",
    "pred_captions = []\n",
    "ground_truth_captions = []\n",
    "\n",
    "\n",
    "start_time = sample_start_time = time.time()\n",
    "\n",
    "# iterate over validation data one image at a time (there are no batches)\n",
    "for orig_image, image, img_id, annotations in iter(val_data_loader):\n",
    "    # validation data loader returns original image, transformed image, image id, and ground-truth captions\n",
    "    # original image was returned only for debugging purpose, so below code is not using it\n",
    "    cnt += 1\n",
    "    img_id = img_id.item()\n",
    "    image = image.to(device)\n",
    "    \n",
    "    # predict caption for the image\n",
    "    features = encoder(image).unsqueeze(1)\n",
    "    output = decoder.sample(features)\n",
    "    sentence = clean_sentence(output)\n",
    "    \n",
    "    # put predicted caption for the image in a list\n",
    "    pred_captions.append({\"image_id\": img_id, \"caption\": [sentence]})\n",
    "    \n",
    "    # generate_gt (generate ground-truth) - True means we need to create ground-truth; False means we have already created it,\n",
    "    # and it is stored in a file\n",
    "    if generate_gt:\n",
    "        for i in range(len(annotations)):\n",
    "            # for some reason, while returning annotations from val_iter, one additional dimension gets added\n",
    "            annotations[i] = annotations[i][0]\n",
    "        # put ground-truth captions for the image in a list\n",
    "        ground_truth_captions.append({\"image_id\": img_id, \"caption\":annotations})\n",
    "    \n",
    "    if cnt%sample_size == 0:\n",
    "        print(f\"Completed: {cnt}; time {time.time()-sample_start_time}\")\n",
    "        sample_start_time = time.time()\n",
    "        \n",
    "    # because of lack of GPU time, decided to use only 50k out of 200k validation samples\n",
    "    if cnt == 50000:\n",
    "        break\n",
    "\n",
    "print(f\"\\n\\nTotal time for processing validation data: {time.time()-start_time}\\n\\n\")"
   ]
  },
  {
   "cell_type": "code",
   "execution_count": 5,
   "metadata": {},
   "outputs": [
    {
     "name": "stdout",
     "output_type": "stream",
     "text": [
      "Saved groundtruth captions to file\n",
      "Saved predicted captions to file\n"
     ]
    }
   ],
   "source": [
    "import json\n",
    "\n",
    "# store the ground-truth and predicted captions in json files\n",
    "\n",
    "if not generate_gt: # ground-truth already exists; read from file\n",
    "    with open(\"gt_val_captions.json\") as f:\n",
    "        ground_truth_captions = json.load(f)\n",
    "        print(\"Read groundtruth captions from file\")\n",
    "else: # ground-truth doesn't exist; save in a file for future runs\n",
    "    with open(\"gt_val_captions.json\", \"w\") as f:\n",
    "        json.dump(ground_truth_captions, f)\n",
    "        print(\"Saved groundtruth captions to file\")\n",
    "\n",
    "with open(\"pred_val_captions.json\", \"w\") as f:\n",
    "    json.dump(pred_captions, f)\n",
    "    print(\"Saved predicted captions to file\")"
   ]
  },
  {
   "cell_type": "code",
   "execution_count": 6,
   "metadata": {},
   "outputs": [],
   "source": [
    "# convert list to dictionary - required for BLEU score computation code\n",
    "# initially, they were stored in lists so that we could dump them in json files\n",
    "pred_captions_dict = {}\n",
    "ground_truth_captions_dict = {}\n",
    "\n",
    "for i in range(len(pred_captions)):\n",
    "    pred_captions_dict[pred_captions[i]['image_id']] = pred_captions[i]['caption']\n",
    "    ground_truth_captions_dict[ground_truth_captions[i]['image_id']] = ground_truth_captions[i]['caption']"
   ]
  },
  {
   "cell_type": "code",
   "execution_count": 7,
   "metadata": {},
   "outputs": [
    {
     "name": "stdout",
     "output_type": "stream",
     "text": [
      "50000\n",
      "10082\n"
     ]
    }
   ],
   "source": [
    "print(len(pred_captions))\n",
    "print(len(pred_captions_dict))"
   ]
  },
  {
   "cell_type": "code",
   "execution_count": 8,
   "metadata": {},
   "outputs": [
    {
     "name": "stdout",
     "output_type": "stream",
     "text": [
      "{'testlen': 92464, 'reflen': 92972, 'guess': [92464, 82382, 72300, 62218], 'correct': [54858, 23864, 8827, 3448]}\n",
      "ratio: 0.9945359893301101\n",
      "[0.5900397442154579, 0.4122902590982233, 0.274303690206387, 0.1836496197876687]\n"
     ]
    }
   ],
   "source": [
    "# code taken from https://github.com/tylin/coco-caption/tree/master/pycocoevalcap/bleu\n",
    "from bleu.bleu import Bleu\n",
    "\n",
    "# compute BLEU score\n",
    "val_bleu = Bleu()\n",
    "score, scores = val_bleu.compute_score(ground_truth_captions_dict, pred_captions_dict)\n",
    "print(score)\n",
    "# print(scores) # gives some error because of large data"
   ]
  },
  {
   "cell_type": "markdown",
   "metadata": {},
   "source": [
    "*Because of limited number of GPU hours, I ran validation code only on 50k items in Udacity workspace. Later, I moved the checkpoints from Udacity workspace to Google Colab and ran validation code on the whole dataset. The results are as below*\n",
    "\n",
    "#### BLEU Scores (50k samples - Udacity Workspace)\n",
    "Epoch 3: <br>\n",
    "{'testlen': 97904, 'reflen': 96747, 'guess': [97904, 87822, 77740, 67658], 'correct': [55721, 23300, 8259, 3122]} <br>\n",
    "ratio: 1.0119590271532863 <br>\n",
    "[0.5691391567249492, 0.38858455245192486, 0.25220362889053277, 0.16494605543798443]\n",
    "\n",
    "\n",
    "Epoch 4: <br>\n",
    "{'testlen': 101049, 'reflen': 99150, 'guess': [101049, 90967, 80885, 70803], 'correct': [57871, 24268, 8867, 3352]} <br>\n",
    "ratio: 1.0191527987897022 <br>\n",
    "[0.5727023523241143, 0.39087648160283406, 0.2558561927827433, 0.16780698615782963]\n",
    "\n",
    "\n",
    "Epoch 5: <br>\n",
    "{'testlen': 92464, 'reflen': 92972, 'guess': [92464, 82382, 72300, 62218], 'correct': [54858, 23864, 8827, 3448]} <br>\n",
    "ratio: 0.9945359893301101 <br>\n",
    "[0.5900397442154579, 0.4122902590982233, 0.274303690206387, 0.1836496197876687]\n",
    "\n",
    "\n",
    "\n",
    "#### BLEU Scores (whole dataset - Google Colab)\n",
    "\n",
    "Epoch 3: <br>\n",
    "{'testlen': 396813, 'reflen': 391116, 'guess': [396813, 356309, 315805, 275301], 'correct': [227481, 95304, 34458, 13327]} <br>\n",
    "ratio: 1.0145660111066768 <br>\n",
    "[0.5732700289557031, 0.391581158363211, 0.25576329176667817, 0.16869795260277565]\n",
    "\n",
    "Epoch 4: <br>\n",
    "{'testlen': 406064, 'reflen': 398221, 'guess': [406064, 365560, 325056, 284552], 'correct': [237056, 99201, 37296, 14920]} <br>\n",
    "ratio: 1.0196950939302523 <br>\n",
    "[0.5837897474289753, 0.39802185783953753, 0.2629294934985998, 0.17570384837107386]\n",
    "\n",
    "Epoch 5: <br>\n",
    "{'testlen': 374409, 'reflen': 375651, 'guess': [374409, 333905, 293401, 252897], 'correct': [226026, 96081, 35165, 13653]} <br>\n",
    "ratio: 0.9966937396679338 <br>\n",
    "[0.6016881604243738, 0.4154059397712154, 0.27418977855429866, 0.18249433404350074]"
   ]
  }
 ],
 "metadata": {
  "anaconda-cloud": {},
  "kernelspec": {
   "display_name": "Python 3",
   "language": "python",
   "name": "python3"
  },
  "language_info": {
   "codemirror_mode": {
    "name": "ipython",
    "version": 3
   },
   "file_extension": ".py",
   "mimetype": "text/x-python",
   "name": "python",
   "nbconvert_exporter": "python",
   "pygments_lexer": "ipython3",
   "version": "3.6.3"
  }
 },
 "nbformat": 4,
 "nbformat_minor": 2
}
